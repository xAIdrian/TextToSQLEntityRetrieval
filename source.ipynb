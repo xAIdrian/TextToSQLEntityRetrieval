{
 "cells": [
  {
   "cell_type": "code",
   "execution_count": 15,
   "metadata": {},
   "outputs": [
    {
     "name": "stdout",
     "output_type": "stream",
     "text": [
      "Defaulting to user installation because normal site-packages is not writeable\n",
      "Requirement already satisfied: transformers in /Users/millionairemacmillionairemac/.local/lib/python3.11/site-packages (4.45.2)\n",
      "Requirement already satisfied: torch in /Users/millionairemacmillionairemac/.local/lib/python3.11/site-packages (2.2.2)\n",
      "Requirement already satisfied: pandas in /Users/millionairemacmillionairemac/.local/lib/python3.11/site-packages (2.2.3)\n",
      "Requirement already satisfied: filelock in /Users/millionairemacmillionairemac/.local/lib/python3.11/site-packages (from transformers) (3.16.1)\n",
      "Requirement already satisfied: huggingface-hub<1.0,>=0.23.2 in /Users/millionairemacmillionairemac/.local/lib/python3.11/site-packages (from transformers) (0.25.2)\n",
      "Requirement already satisfied: numpy>=1.17 in /Users/millionairemacmillionairemac/.local/lib/python3.11/site-packages (from transformers) (2.1.2)\n",
      "Requirement already satisfied: packaging>=20.0 in /Users/millionairemacmillionairemac/.local/lib/python3.11/site-packages (from transformers) (24.1)\n",
      "Requirement already satisfied: pyyaml>=5.1 in /Users/millionairemacmillionairemac/.local/lib/python3.11/site-packages (from transformers) (6.0.2)\n",
      "Requirement already satisfied: regex!=2019.12.17 in /Users/millionairemacmillionairemac/.local/lib/python3.11/site-packages (from transformers) (2024.9.11)\n",
      "Requirement already satisfied: requests in /Users/millionairemacmillionairemac/.local/lib/python3.11/site-packages (from transformers) (2.32.3)\n",
      "Requirement already satisfied: safetensors>=0.4.1 in /Users/millionairemacmillionairemac/.local/lib/python3.11/site-packages (from transformers) (0.4.5)\n",
      "Requirement already satisfied: tokenizers<0.21,>=0.20 in /Users/millionairemacmillionairemac/.local/lib/python3.11/site-packages (from transformers) (0.20.1)\n",
      "Requirement already satisfied: tqdm>=4.27 in /Users/millionairemacmillionairemac/.local/lib/python3.11/site-packages (from transformers) (4.66.5)\n",
      "Requirement already satisfied: typing-extensions>=4.8.0 in /Users/millionairemacmillionairemac/.local/lib/python3.11/site-packages (from torch) (4.12.2)\n",
      "Requirement already satisfied: sympy in /Users/millionairemacmillionairemac/.local/lib/python3.11/site-packages (from torch) (1.13.3)\n",
      "Requirement already satisfied: networkx in /Users/millionairemacmillionairemac/.local/lib/python3.11/site-packages (from torch) (3.4.1)\n",
      "Requirement already satisfied: jinja2 in /Users/millionairemacmillionairemac/.local/lib/python3.11/site-packages (from torch) (3.1.4)\n",
      "Requirement already satisfied: fsspec in /Users/millionairemacmillionairemac/.local/lib/python3.11/site-packages (from torch) (2024.9.0)\n",
      "Requirement already satisfied: python-dateutil>=2.8.2 in /Users/millionairemacmillionairemac/.local/lib/python3.11/site-packages (from pandas) (2.9.0.post0)\n",
      "Requirement already satisfied: pytz>=2020.1 in /Users/millionairemacmillionairemac/.local/lib/python3.11/site-packages (from pandas) (2024.2)\n",
      "Requirement already satisfied: tzdata>=2022.7 in /Users/millionairemacmillionairemac/.local/lib/python3.11/site-packages (from pandas) (2024.2)\n",
      "Requirement already satisfied: six>=1.5 in /Users/millionairemacmillionairemac/.local/lib/python3.11/site-packages (from python-dateutil>=2.8.2->pandas) (1.16.0)\n",
      "Requirement already satisfied: MarkupSafe>=2.0 in /Users/millionairemacmillionairemac/.local/lib/python3.11/site-packages (from jinja2->torch) (3.0.1)\n",
      "Requirement already satisfied: charset-normalizer<4,>=2 in /Users/millionairemacmillionairemac/.local/lib/python3.11/site-packages (from requests->transformers) (3.4.0)\n",
      "Requirement already satisfied: idna<4,>=2.5 in /Users/millionairemacmillionairemac/.local/lib/python3.11/site-packages (from requests->transformers) (3.10)\n",
      "Requirement already satisfied: urllib3<3,>=1.21.1 in /Users/millionairemacmillionairemac/.local/lib/python3.11/site-packages (from requests->transformers) (2.2.3)\n",
      "Requirement already satisfied: certifi>=2017.4.17 in /Users/millionairemacmillionairemac/.local/lib/python3.11/site-packages (from requests->transformers) (2024.8.30)\n",
      "Requirement already satisfied: mpmath<1.4,>=1.1.0 in /Users/millionairemacmillionairemac/.local/lib/python3.11/site-packages (from sympy->torch) (1.3.0)\n",
      "\n",
      "\u001b[1m[\u001b[0m\u001b[34;49mnotice\u001b[0m\u001b[1;39;49m]\u001b[0m\u001b[39;49m A new release of pip is available: \u001b[0m\u001b[31;49m23.1.2\u001b[0m\u001b[39;49m -> \u001b[0m\u001b[32;49m24.2\u001b[0m\n",
      "\u001b[1m[\u001b[0m\u001b[34;49mnotice\u001b[0m\u001b[1;39;49m]\u001b[0m\u001b[39;49m To update, run: \u001b[0m\u001b[32;49mpip install --upgrade pip\u001b[0m\n",
      "Defaulting to user installation because normal site-packages is not writeable\n",
      "Requirement already satisfied: sentencepiece in /Users/millionairemacmillionairemac/.local/lib/python3.11/site-packages (0.2.0)\n",
      "\n",
      "\u001b[1m[\u001b[0m\u001b[34;49mnotice\u001b[0m\u001b[1;39;49m]\u001b[0m\u001b[39;49m A new release of pip is available: \u001b[0m\u001b[31;49m23.1.2\u001b[0m\u001b[39;49m -> \u001b[0m\u001b[32;49m24.2\u001b[0m\n",
      "\u001b[1m[\u001b[0m\u001b[34;49mnotice\u001b[0m\u001b[1;39;49m]\u001b[0m\u001b[39;49m To update, run: \u001b[0m\u001b[32;49mpip install --upgrade pip\u001b[0m\n",
      "Defaulting to user installation because normal site-packages is not writeable\n",
      "Collecting scikit-learn\n",
      "  Downloading scikit_learn-1.5.2-cp311-cp311-macosx_10_9_x86_64.whl (12.1 MB)\n",
      "\u001b[2K     \u001b[90m━━━━━━━━━━━━━━━━━━━━━━━━━━━━━━━━━━━━━━━━\u001b[0m \u001b[32m12.1/12.1 MB\u001b[0m \u001b[31m29.1 MB/s\u001b[0m eta \u001b[36m0:00:00\u001b[0m00:01\u001b[0m00:01\u001b[0m\n",
      "\u001b[?25hRequirement already satisfied: numpy>=1.19.5 in /Users/millionairemacmillionairemac/.local/lib/python3.11/site-packages (from scikit-learn) (2.1.2)\n",
      "Collecting scipy>=1.6.0 (from scikit-learn)\n",
      "  Downloading scipy-1.14.1-cp311-cp311-macosx_14_0_x86_64.whl (25.5 MB)\n",
      "\u001b[2K     \u001b[90m━━━━━━━━━━━━━━━━━━━━━━━━━━━━━━━━━━━━━━━━\u001b[0m \u001b[32m25.5/25.5 MB\u001b[0m \u001b[31m29.0 MB/s\u001b[0m eta \u001b[36m0:00:00\u001b[0m00:01\u001b[0m00:01\u001b[0m\n",
      "\u001b[?25hCollecting joblib>=1.2.0 (from scikit-learn)\n",
      "  Downloading joblib-1.4.2-py3-none-any.whl (301 kB)\n",
      "\u001b[2K     \u001b[90m━━━━━━━━━━━━━━━━━━━━━━━━━━━━━━━━━━━━━━━\u001b[0m \u001b[32m301.8/301.8 kB\u001b[0m \u001b[31m8.2 MB/s\u001b[0m eta \u001b[36m0:00:00\u001b[0m00:01\u001b[0m\n",
      "\u001b[?25hCollecting threadpoolctl>=3.1.0 (from scikit-learn)\n",
      "  Downloading threadpoolctl-3.5.0-py3-none-any.whl (18 kB)\n",
      "Installing collected packages: threadpoolctl, scipy, joblib, scikit-learn\n",
      "Successfully installed joblib-1.4.2 scikit-learn-1.5.2 scipy-1.14.1 threadpoolctl-3.5.0\n",
      "\n",
      "\u001b[1m[\u001b[0m\u001b[34;49mnotice\u001b[0m\u001b[1;39;49m]\u001b[0m\u001b[39;49m A new release of pip is available: \u001b[0m\u001b[31;49m23.1.2\u001b[0m\u001b[39;49m -> \u001b[0m\u001b[32;49m24.2\u001b[0m\n",
      "\u001b[1m[\u001b[0m\u001b[34;49mnotice\u001b[0m\u001b[1;39;49m]\u001b[0m\u001b[39;49m To update, run: \u001b[0m\u001b[32;49mpip install --upgrade pip\u001b[0m\n"
     ]
    }
   ],
   "source": [
    "!pip install transformers torch pandas\n",
    "!pip install sentencepiece\n",
    "!pip install scikit-learn\n"
   ]
  },
  {
   "cell_type": "code",
   "execution_count": 24,
   "metadata": {},
   "outputs": [
    {
     "name": "stdout",
     "output_type": "stream",
     "text": [
      "  entity_name                   field_name field_type  \\\n",
      "0         CDR      ifc.ootb.CDR.callStatus     string   \n",
      "1         CDR             ifc.CDR.caseCode     string   \n",
      "2         CDR            ifc.CDR.chatTopic     string   \n",
      "3         CDR  ifc.ootb.CDR.createDateTime       date   \n",
      "4         CDR       ifc.ootb.CDR.direction     string   \n",
      "\n",
      "                                         description  \n",
      "0  Status of the call: \"Successful\", \"Failed\", \"B...  \n",
      "1            Unique code identifying a specific case  \n",
      "2         Topic or subject of discussion in the chat  \n",
      "3                  Date and time of record creation.  \n",
      "4         Direction of the call (incoming, outgoing)  \n",
      "                                            question  \\\n",
      "0           Find all calls made using 3G technology.   \n",
      "1  List all Reddit comments posted yesterday with...   \n",
      "2  Show me investigations that are either open or...   \n",
      "3  Find all insights related to the witness Jane ...   \n",
      "4  List all web activities updated in the last da...   \n",
      "\n",
      "                                                json  \n",
      "0  {'entityType': 'CDR', 'statements': [{'type': ...  \n",
      "1  {'entityType': 'Web Activity', 'statements': [...  \n",
      "2  {'entityType': 'Investigation', 'statements': ...  \n",
      "3  {'entityType': 'Insight', 'statements': [{'typ...  \n",
      "4  {'entityType': 'Web Activity', 'statements': [...  \n",
      "test sample mapping\n",
      "[{'field_name': 'ifc.ootb.Participant.isSuspicious', 'description': 'Boolean auto-generated Indicator showing if the identifier was defined as suspicious by the users or is it a SIM-Swapper (defined by the platform)'}, {'field_name': 'ifc.ootb.Participant.targetName', 'description': 'this is target based SIGINT - (local police level) (unlike mass sigint in country level). Name of target like Yossi cohen'}, {'field_name': 'ifc.ootb.Phone.IMEI', 'description': 'International Mobile Equipment Identity of the phone. It is a unique 15-digit code. Each IMEI number is unique to a device and does not change, even if the SIM card is changed'}, {'field_name': 'ifc.ootb.Phone.IMSI', 'description': 'IMSI stands for International Mobile Subscriber Identity. It is a unique number associated with all cellular networks. It is used to identify the user of a cellular network and is a key part of any mobile network. The IMSI is stored on a SIM card and consists of up to 15 digits.The structure of the IMSI is as follows:Mobile Country Code (MCC): The first three digits represent the country code, identifying the country in which the carrier operates.Mobile Network Code (MNC): The next two or three digits identify the mobile network within the country.Mobile Subscriber Identification Number (MSIN): The remainder of the IMSI is a unique identifier for the subscriber within the network.'}, {'field_name': 'ifc.ootb.Phone.MSISDN', 'description': \"MSISDN or phone number is the phone number associated with a mobile network subscriber. It is the globally unique number that identifies a subscriber's subscription in a mobile network, allowing them to make and receive calls, send and receive SMS, and utilize mobile data.Purpose: The primary purpose of an MSISDN is to identify the subscriber's phone number for routing calls and messages. It is tied to the SIM card (Subscriber Identity Module) used in the mobile device.Components: An MSISDN includes the country code (CC), the national destination code (NDC), and the subscriber number (SN).\"}, {'field_name': 'ifc.ootb.Phone.title', 'description': 'Title or label associated with the phone (to display on system)'}, {'field_name': 'ifc.ootb.Participant.tlidDominantLanguage', 'description': 'Dominant language for the Telecommunications Interception Directive'}, {'field_name': 'ifc.ootb.Participant.aliasName', 'description': 'Alias name of the participant'}, {'field_name': 'ifc.ootb.Participant.firstActiveDate', 'description': 'Date when the participant was first active on SIGINT'}, {'field_name': 'ifc.ootb.Participant.lastActiveDate', 'description': 'Date when the participant was last active on SIGINT'}, {'field_name': 'ifc.Phone.accessCallingNumber', 'description': 'Calling number used to access the phone'}, {'field_name': 'ifc.ootb.Participant.deviceName', 'description': 'Name of the device used by the participant'}, {'field_name': 'ifc.ootb.Participant.isTarget', 'description': 'Indicates whether the identifier defined as a target, meaning content is visible (Under a court order)'}, {'field_name': 'ifc.Phone.type', 'description': 'Type of phone (either foreign, mobile, or landline)'}, {'field_name': 'ifc.ootb.Phone.IMSI.objectID', 'description': \"Object ID associated with the phone's IMSI\"}]\n"
     ]
    },
    {
     "name": "stderr",
     "output_type": "stream",
     "text": [
      "/var/folders/nd/z10gkxp14_vbcbgjmpzd69200000gn/T/ipykernel_7010/2222115628.py:14: DeprecationWarning: DataFrameGroupBy.apply operated on the grouping columns. This behavior is deprecated, and in a future version of pandas the grouping columns will be excluded from the operation. Either pass `include_groups=False` to exclude the groupings or explicitly select the grouping columns after groupby to silence this warning.\n",
      "  entity_to_field_mapping = fields_desc.groupby('entity_name').apply(lambda x: x[['field_name', 'description']].to_dict(orient='records')).to_dict()\n"
     ]
    }
   ],
   "source": [
    "# load data and create mapping into new dataframe\n",
    "# right now we are just using the user query \n",
    "### TODO files are static paths now.  we need to make them dynamic and maybe add a nice UI to select the file\n",
    "import pandas as pd\n",
    "\n",
    "fields_desc = pd.read_csv('fields_description.csv')\n",
    "user_queries = pd.read_csv('user_queries.csv')\n",
    "\n",
    "print(fields_desc.head())\n",
    "print(user_queries.head())\n",
    "\n",
    "# Create a dictionary mapping entity names to their field descriptions and properties\n",
    "# This groups the data by entity_name and creates a nested dictionary structure for easy access to field information for each entity type\n",
    "entity_to_field_mapping = fields_desc.groupby('entity_name').apply(lambda x: x[['field_name', 'description']].to_dict(orient='records')).to_dict()\n",
    "\n",
    "print('test sample mapping')\n",
    "print(entity_to_field_mapping.get('Phone', []))\n"
   ]
  },
  {
   "cell_type": "code",
   "execution_count": null,
   "metadata": {},
   "outputs": [],
   "source": [
    "# prepare our data for training. we combine our user query with field description\n",
    "import json\n",
    "import re\n",
    "\n",
    "def clean_json_string(json_string):\n",
    "    # Remove any leading/trailing whitespace\n",
    "    json_string = json_string.strip()\n",
    "    \n",
    "    # Ensure the string is enclosed in curly braces\n",
    "    if not json_string.startswith('{'):\n",
    "        json_string = '{' + json_string\n",
    "    if not json_string.endswith('}'):\n",
    "        json_string = json_string + '}'\n",
    "    \n",
    "    # Replace single quotes with double quotes, but not within values\n",
    "    json_string = re.sub(r\"(?<!\\\\)'\", '\"', json_string)\n",
    "    \n",
    "    # Remove any trailing commas before closing braces or brackets\n",
    "    json_string = re.sub(r',\\s*([\\]}])', r'\\1', json_string)\n",
    "    \n",
    "    return json_string\n",
    "\n",
    "def prepare_data_for_training(user_query, fields_mapping):\n",
    "    inputs, labels = [], []\n",
    "\n",
    "    for _, row in user_queries.iterrows():\n",
    "        query = row['question']\n",
    "        \n",
    "        # Clean and validate JSON string\n",
    "        cleaned_json_string = clean_json_string(row['json'])\n",
    "        \n",
    "        try:\n",
    "            json_data = json.loads(cleaned_json_string)\n",
    "        except json.JSONDecodeError as e:\n",
    "            print(f\"Error decoding JSON for query: {query}\")\n",
    "            print(f\"Original JSON string: {row['json']}\")\n",
    "            print(f\"Cleaned JSON string: {cleaned_json_string}\")\n",
    "            print(f\"Error: {e}\")\n",
    "            continue  # Skip this row and continue with the next one\n",
    "        \n",
    "        # extract entity types and relation target types\n",
    "        entity_type = json_data.get('entityType', '')\n",
    "        relation_type = json_data.get('relationTargetType', '')\n",
    "\n",
    "        # get the description for each entity type\n",
    "        fields = fields_mapping.get(entity_type, [])\n",
    "        fields_description = ';'.join([f\"{field['field_name']}: {field['description']}\" for field in fields])\n",
    "\n",
    "        #combine query with field description\n",
    "        input_text = f\"Query: {query}\\nEntity: {entity_type}\\nFields: {fields_description}\"\n",
    "        inputs.append(input_text)\n",
    "        labels.append(entity_type if not relation_type else f\"{entity_type} | {relation_type}\")\n",
    "\n",
    "    return inputs, labels\n",
    "\n",
    "# prepare data\n",
    "inputs, labels = prepare_data_for_training(user_queries, entity_to_field_mapping)"
   ]
  },
  {
   "cell_type": "code",
   "execution_count": 34,
   "metadata": {},
   "outputs": [
    {
     "name": "stdout",
     "output_type": "stream",
     "text": [
      "Input: Query: Find all calls made using 3G technology.\n",
      "Entity: CDR\n",
      "Fields: ifc.ootb.CDR.callStatus: Status of the call: \"Successful\", \"Failed\", \"Blocked\", or \"Redirected\";ifc.CDR.caseCode: Unique code identifying a specific case;ifc.CDR.chatTopic: Topic or subject of discussion in the chat;ifc.ootb.CDR.createDateTime: Date and time of record creation.;ifc.ootb.CDR.direction: Direction of the call (incoming, outgoing);ifc.ootb.CDR.duration: Duration of the communication in minutes. You can ask it For example: 1min -> 60;ifc.CDR.emailSubject: Subject of the email communication;ifc.ootb.CDR.endTime: Time when the communication ended;ifc.ootb.CDR.hasContent: Indicates if the communication has content;ifc.ootb.CDR.imei: this field is intended to store the IMEI number of the device who made a call.;ifc.ootb.CDR.imei2: this field is intended to store the IMEI number of the device that is receiving the call. It serves the same purposes as the caller's IMEI but for the receiving side of the communication.;ifc.ootb.CDR.imsi: The IMSI that initiate the call as a sender. IMSI stands for International Mobile Subscriber Identity. It is a unique number associated with all cellular networks. It is used to identify the user of a cellular network and is a key part of any mobile network. The IMSI is stored on a SIM card and consists of up to 15 digits.The structure of the IMSI is as follows:Mobile Country Code (MCC): The first three digits represent the country code, identifying the country in which the carrier operates.Mobile Network Code (MNC): The next two or three digits identify the mobile network within the country.Mobile Subscriber Identification Number (MSIN): The remainder of the IMSI is a unique identifier for the subscriber within the network.;ifc.ootb.CDR.imsi2: The IMSI that received the call as a receiver. IMSI is an International Mobile Subscriber Identity (IMSI) is a 15-digit number for every user in a Global System for Mobile communication (GSM). The IMSI is used by Mobile Network Operators (MNOs) and is an important part of the Subscriber Identity Module (SIM) profile.;ifc.CDR.interceptionCriteria: Criteria for intercepting the communication;ifc.CDR.interceptionFilter: Filter applied for interception;ifc.ootb.CDR.ipAddress: IP address of the communication's  Origin ;ifc.ootb.CDR.isAttachment: Indicates if the communication has an attachment;ifc.CDR.isClassified: Indicates if the communication is classified;ifc.ootb.CDR.msisdn: MSISDN or phone number is the phone number associated with a mobile network subscriber as a sender. It is the globally unique number that identifies a subscriber's subscription in a mobile network, allowing them to make calls, send SMS, and utilize mobile data as sender.Purpose: The primary purpose of an MSISDN is to identify the subscriber's phone number for routing calls and messages. It is tied to the SIM card (Subscriber Identity Module) used in the mobile device.Components: An MSISDN includes the country code (CC), the national destination code (NDC), and the subscriber number (SN).;ifc.ootb.CDR.msisdn2: MSISDN or phone number is the phone number associated with a mobile network subscriber as a receiver. It is the globally unique number that identifies a subscriber's subscription in a mobile network, allowing them to receive calls, receive SMS, and utilize mobile data as reciever.Purpose: The primary purpose of an MSISDN is to identify the subscriber's phone number for routing calls and messages. It is tied to the SIM card (Subscriber Identity Module) used in the mobile device.Components: An MSISDN includes the country code (CC), the national destination code (NDC), and the subscriber number (SN).;ifc.ootb.CDR.protocol: Communication protocol used like GSM or UMTS;ifc.ootb.CDR.provider: Provider of the network service;ifc.ootb.CDR.smsProtocol: Protocol used for SMS communication;ifc.ootb.CDR.smsText: Text content of the SMS;ifc.ootb.CDR.smsType: Type of the SMS (e.g., text, binary);ifc.ootb.CDR.startTime: Time when the communication started;ifc.CDR.subcaseCode: Code for the subcase of a known case. Identify between this field and the ifc.CDR.caseCode;ifc.CDR.targetCode: Code identifying the target of the communication;ifc.ootb.CDR.technology: Technology used in the communication, either: 2G,3G,4G,5G,other, WiFi;ifc.ootb.CDR.type: Type of the communication, either: None-Call, Text,Voice, VoiceEdited, Web or Email. Text type is SMS, Voice type is Phone Calls;ifc.ootb.CDR.mainLanguage: Primary language of the communication content;ifc.ootb.CDR.ipAddress2: IP address of the communication's  Destination;ifc.ootb.CDR.originatorEmailAddress: Email address of the sender;ifc.ootb.CDR.destinationEmailAddress: Email address of the recipient;ifc.ootb.CDR.orignatorNetworkName: Name of the originator's network;ifc.ootb.CDR.destinatorNetworkName: Name of the recipient's network\n",
      "Label: CDR\n",
      "Input: Query: List all Reddit comments posted yesterday with a negative sentiment\n",
      "Entity: Web Activity\n",
      "Fields: ifc.ootb.Orbis.platform: the social network name form which the actor was collected (e.g. facebook instagram linkedin etc. );ifc.ootb.WebActivity.writerFullName: Full name of the writer who wrote the post;ifc.ootb.WebActivity.writerUri: URI of the writers profile or content;ifc.ootb.Orbis.updateDate: Date when the post was updated;ifc.ootb.Orbis.collectDate: Date when the post data was collected;ifc.ootb.Orbis.publishDate: Date when the post was published or created;ifc.ootb.WebActivity.numberOfLikes: Number of likes on the activity;ifc.ootb.WebActivity.numberShares: Number of times the activity was shared;ifc.ootb.WebActivity.numberActivities: Count of all web activities (e.g. posts, reshares) nested under this web activity;ifc.ootb.WebActivity.numberTags: Number of tags associated with the activity;ifc.ootb.WebActivity.mainLanguage: Main language of the activity;ifc.ootb.WebActivity.sentiment: sentiment of the text with the web activity (can be positive or negative);ifc.ootb.WebActivity.sentimentScore: a score between 0 (low) and 1 (high) of the sentiment analysis certainty of the text of the activity;ifc.ootb.WebActivity.text: Text content of the web activity;ifc.ootb.Orbis.creditCard: NER extraction of entities representing credit card information as extracted from ORBIS;ifc.ootb.Orbis.email: NER extraction of entities representing emails as extracted from ORBIS;ifc.ootb.Orbis.hashtags: Hashtags mentioned in the activity text;ifc.ootb.Orbis.ipAddress: IP address mentioned in the activity text;ifc.ootb.Orbis.mentions: a mention of a profile in social media usually with an @ sign;ifc.ootb.Orbis.nationality: Nationality mentioned in the activity text;ifc.ootb.Orbis.phone: Phone number mentioned in the activity text;ifc.ootb.Orbis.religion: Religions mentioned in the activity text;ifc.ootb.Orbis.url: URL mentioned in the activity text;ifc.ootb.Orbis.landmarks: names of landmarks found in the activity (e.g eiffel tower);ifc.ootb.WebActivity.title: Title of the web activity\n",
      "Label: Web Activity\n",
      "Input: Query: Show me investigations that are either open or were created in the last 3 months\n",
      "Entity: Investigation\n",
      "Fields: ifc.core.description: Detailed summary of the investigation;ifc.core.dueTime: Scheduled completion time for the investigation;ifc.core.state: Current state of the investigation. either \"open\" or \"close\";ifc.core.priority: Priority level of the investigation: \"regular\", \"medium\" or \"high\" in ascending order;ifc.core.createtime: Creation time of the investigation record\n",
      "Label: Investigation\n"
     ]
    }
   ],
   "source": [
    "for i in range(3):\n",
    "    print(f\"{inputs[i]}\\nLabel: {labels[i]}\")"
   ]
  },
  {
   "cell_type": "code",
   "execution_count": 4,
   "metadata": {},
   "outputs": [
    {
     "name": "stderr",
     "output_type": "stream",
     "text": [
      "Some weights of the model checkpoint at twmkn9/albert-base-v2-squad2 were not used when initializing AlbertForQuestionAnswering: ['albert.pooler.bias', 'albert.pooler.weight']\n",
      "- This IS expected if you are initializing AlbertForQuestionAnswering from the checkpoint of a model trained on another task or with another architecture (e.g. initializing a BertForSequenceClassification model from a BertForPreTraining model).\n",
      "- This IS NOT expected if you are initializing AlbertForQuestionAnswering from the checkpoint of a model that you expect to be exactly identical (initializing a BertForSequenceClassification model from a BertForSequenceClassification model).\n"
     ]
    }
   ],
   "source": [
    "from transformers import AlbertTokenizer, AlbertForQuestionAnswering\n",
    "import torch\n",
    "# load the tokenizer and model \n",
    "# ALBERT fine-tuned on question-answering tasks\n",
    "model_name = \"twmkn9/albert-base-v2-squad2\"\n",
    "tokenizer = AlbertTokenizer.from_pretrained(model_name)\n",
    "model = AlbertForQuestionAnswering.from_pretrained(model_name)"
   ]
  },
  {
   "cell_type": "code",
   "execution_count": 5,
   "metadata": {},
   "outputs": [],
   "source": [
    "# Sample JSON-like data (you'll replace this with your CSV data)\n",
    "json_data = [\n",
    "    {\"entityType\": \"CDR\", \"relationTargetType\": \"Phone\"},\n",
    "    {\"entityType\": \"Report\", \"relationTargetType\": \"Malware\"}\n",
    "]\n",
    "\n",
    "# Example query from the user\n",
    "query = \"What SMS messages were sent from suspicious phones to 0549876543 containing 'urgent'?\"\n"
   ]
  },
  {
   "cell_type": "code",
   "execution_count": 12,
   "metadata": {},
   "outputs": [],
   "source": [
    "#Function to search for relevant entitties in teh JSON data\n",
    "def find_matching_entities(query, json_data):\n",
    "    matching_entities = []\n",
    "\n",
    "    for record in json_data:\n",
    "        entity_text = f\"{record['entityType']} {record['relationTargetType']}\"\n",
    "\n",
    "        #encode inputs for model\n",
    "        inputs = tokenizer(query, entity_text, return_tensors=\"pt\")\n",
    "\n",
    "        #run the model to get answer scores\n",
    "        with torch.no_grad():\n",
    "            outputs = model(**inputs)\n",
    "\n",
    "        #get the start and end scores for the answer\n",
    "        answer_start = torch.argmax(outputs.start_logits)\n",
    "        answer_end = torch.argmax(outputs.end_logits) + 1\n",
    "\n",
    "        #extract the answer\n",
    "        predicted_entity = tokenizer.convert_tokens_to_string(\n",
    "            tokenizer.convert_ids_to_tokens(inputs['input_ids'][0][answer_start:answer_end])\n",
    "        )\n",
    "\n",
    "        #if predicted entity is not empty, consider it a match\n",
    "        if predicted_entity.strip():\n",
    "            return record['entityType'], record['relationTargetType']\n",
    "\n",
    "    return None\n",
    "    # return list(set(matching_entities)) #remove duplicates"
   ]
  },
  {
   "cell_type": "code",
   "execution_count": 14,
   "metadata": {},
   "outputs": [
    {
     "name": "stdout",
     "output_type": "stream",
     "text": [
      "['Phone', 'CDR']\n"
     ]
    }
   ],
   "source": [
    "#Test example\n",
    "matching_entities = list(set(find_matching_entities(query, json_data)))\n",
    "print(matching_entities)"
   ]
  },
  {
   "cell_type": "code",
   "execution_count": null,
   "metadata": {},
   "outputs": [],
   "source": []
  }
 ],
 "metadata": {
  "kernelspec": {
   "display_name": "Python 3",
   "language": "python",
   "name": "python3"
  },
  "language_info": {
   "codemirror_mode": {
    "name": "ipython",
    "version": 3
   },
   "file_extension": ".py",
   "mimetype": "text/x-python",
   "name": "python",
   "nbconvert_exporter": "python",
   "pygments_lexer": "ipython3",
   "version": "3.11.4"
  }
 },
 "nbformat": 4,
 "nbformat_minor": 2
}
